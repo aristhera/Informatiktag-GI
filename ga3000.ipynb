{
 "cells": [
  {
   "cell_type": "code",
   "execution_count": 1,
   "metadata": {},
   "outputs": [
    {
     "name": "stdout",
     "output_type": "stream",
     "text": [
      "/home/gebhard/Dropbox/laptop/python/Notebooks\n"
     ]
    }
   ],
   "source": [
    "from os import getcwd\n",
    "print(getcwd())"
   ]
  },
  {
   "cell_type": "code",
   "execution_count": 2,
   "metadata": {},
   "outputs": [],
   "source": [
    "summe1 = 0\n",
    "summe2 = 0\n",
    "summe3 = 0\n",
    "empfehlung = []\n",
    "\n",
    "with open('/home/gebhard/Dropbox/digi/dagstat/konferenz/ga3000.csv') as file:\n",
    "        header = file.readline()\n",
    "        #header = header.strip()\n",
    "        for line in file:\n",
    "            line = line.rstrip().split(',')\n",
    "            if line[3] < '3':\n",
    "                summe1 += int(line[4])\n",
    "            elif line[3] > '2' and line[3] < '5':\n",
    "                summe2 += int(line[4])\n",
    "            else:\n",
    "                summe3 += int(line[4])\n",
    "        empfehlung.append(summe1)\n",
    "        empfehlung.append(summe2)\n",
    "        empfehlung.append(summe3)"
   ]
  },
  {
   "cell_type": "code",
   "execution_count": 3,
   "metadata": {},
   "outputs": [
    {
     "name": "stdout",
     "output_type": "stream",
     "text": [
      "706 1522 2261\n",
      "[706, 1522, 2261]\n"
     ]
    }
   ],
   "source": [
    "print(summe1, summe2, summe3)\n",
    "print(empfehlung)"
   ]
  },
  {
   "cell_type": "code",
   "execution_count": 4,
   "metadata": {},
   "outputs": [
    {
     "name": "stdout",
     "output_type": "stream",
     "text": [
      "[318, 1533, 5262]\n"
     ]
    }
   ],
   "source": [
    "gym2 = 0\n",
    "gym4 = 0\n",
    "gym6 = 0\n",
    "wechsel = []\n",
    "with open('/home/gebhard/Dropbox/digi/dagstat/konferenz/wechsel.csv') as file:\n",
    "        header = file.readline()\n",
    "        #header = header.strip()\n",
    "        for line in file:\n",
    "            line = line.rstrip().split(',')\n",
    "            if line[0] == '2':\n",
    "                gym2 = int(line[2])\n",
    "            elif line[0] > '2' and line[0] < '5':\n",
    "                gym4 += int(line[2])\n",
    "            else:\n",
    "                gym6 += int(line[2])\n",
    "        wechsel.append(gym2)\n",
    "        wechsel.append(gym4)\n",
    "        wechsel.append(gym6)\n",
    "print(wechsel)"
   ]
  },
  {
   "cell_type": "code",
   "execution_count": 5,
   "metadata": {},
   "outputs": [
    {
     "name": "stdout",
     "output_type": "stream",
     "text": [
      "[  388   -11 -3001]\n",
      "388\n",
      "-11\n",
      "-3001\n"
     ]
    }
   ],
   "source": [
    "import numpy as np\n",
    "a=np.array(empfehlung)\n",
    "b=np.array(wechsel)\n",
    "print(a-b)\n",
    "# oldschool\n",
    "for i in range(len(wechsel)):\n",
    "    print(empfehlung[i] - wechsel[i])"
   ]
  },
  {
   "cell_type": "code",
   "execution_count": 12,
   "metadata": {},
   "outputs": [
    {
     "data": {
      "image/png": "[encoded data removed]",
      "text/plain": [
       "<Figure size 432x288 with 1 Axes>"
      ]
     },
     "metadata": {
      "needs_background": "light"
     },
     "output_type": "display_data"
    }
   ],
   "source": [
    "# https://matplotlib.org/3.1.1/gallery/lines_bars_and_markers/barchart.html#sphx-glr-gallery-lines-bars-and-markers-barchart-py\n",
    "import matplotlib.pyplot as plt\n",
    "%matplotlib inline\n",
    "empfehlung, wechsel\n",
    "kess = ['1-2', '3-4', '5-6']\n",
    "x = np.arange(len(kess))  # the label locations\n",
    "width = 0.35  # the width of the bars\n",
    "\n",
    "fig, ax = plt.subplots()\n",
    "rects1 = ax.bar(x - width/2, empfehlung, width, label='Empfehlung')\n",
    "rects2 = ax.bar(x + width/2, wechsel, width, label='Wechsel')\n",
    "\n",
    "# Add some text for labels, title and custom x-axis tick labels, etc.\n",
    "ax.set_xlabel('kess')\n",
    "ax.set_ylabel('SuS')\n",
    "ax.set_title('Empf/Wechsel')\n",
    "ax.set_xticks(x)\n",
    "ax.set_xticklabels(kess)\n",
    "ax.legend()\n",
    "plt.show()"
   ]
  },
  {
   "cell_type": "code",
   "execution_count": null,
   "metadata": {},
   "outputs": [],
   "source": []
  }
 ],
 "metadata": {
  "kernelspec": {
   "display_name": "Python 3",
   "language": "python",
   "name": "python3"
  },
  "language_info": {
   "codemirror_mode": {
    "name": "ipython",
    "version": 3
   },
   "file_extension": ".py",
   "mimetype": "text/x-python",
   "name": "python",
   "nbconvert_exporter": "python",
   "pygments_lexer": "ipython3",
   "version": "3.9.2"
  }
 },
 "nbformat": 4,
 "nbformat_minor": 2
}
