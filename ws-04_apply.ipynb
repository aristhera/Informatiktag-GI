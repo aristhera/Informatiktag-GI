{
 "cells": [
  {
   "cell_type": "markdown",
   "metadata": {},
   "source": [
    "\"We deal with interdisciplinary possibilities and effects of data analysis by GAFAM/FAANG (Californian big tech companies) via tracking, data mining and psychometrics on Facebook likes (\"Big 5 Personal Traits\" and IQ) on society, politics and the state legal system.\n",
    "Genesis, conception and implementation of the series of lessons will be presented and examples elaborated. We look forward to a lively discussion of the many challenges that make this highly topical interweaving of computer science, society and law possible and necessary in the classroom.\"\n",
    "https://indico.uni-wuppertal.de/event/199/, deepl.com"
   ]
  },
  {
   "cell_type": "code",
   "execution_count": 51,
   "metadata": {},
   "outputs": [],
   "source": [
    "apply = {\n",
    "  \"predictions\": [\n",
    "    {\n",
    "      \"trait\": \"BIG5_Openness\",\n",
    "      \"value\": \"0.9834\"\n",
    "    },\n",
    "    {\n",
    "      \"trait\": \"BIG5_Conscientiousness\",\n",
    "      \"value\": \"0.6839\"\n",
    "    },\n",
    "    {\n",
    "      \"trait\": \"BIG5_Extraversion\",\n",
    "      \"value\": \"0.7670999999999999\"\n",
    "    },\n",
    "    {\n",
    "      \"trait\": \"BIG5_Agreeableness\",\n",
    "      \"value\": \"0.39390000000000003\"\n",
    "    },\n",
    "    {\n",
    "      \"trait\": \"BIG5_Neuroticism\",\n",
    "      \"value\": \"0.0704\"\n",
    "    },\n",
    "    {\n",
    "      \"trait\": \"Female\",\n",
    "      \"value\": \"3.539757932819252E-5\"\n",
    "    },\n",
    "    {\n",
    "      \"trait\": \"Age\",\n",
    "      \"value\": \"63.066422667711834\"\n",
    "    }\n",
    "  ],\n",
    "  \"contributors\": [],\n",
    "  \"interpretations\": [\n",
    "    {\n",
    "      \"trait\": \"Jungian_Personality\",\n",
    "      \"value\": \"ENTP\"\n",
    "    },\n",
    "    {\n",
    "      \"trait\": \"Leadership\",\n",
    "      \"value\": \"0.7962401346775669\"\n",
    "    }\n",
    "  ]\n",
    "}"
   ]
  },
  {
   "cell_type": "code",
   "execution_count": 52,
   "metadata": {},
   "outputs": [
    {
     "name": "stdout",
     "output_type": "stream",
     "text": [
      "predictions [{'trait': 'BIG5_Openness', 'value': '0.9834'}, {'trait': 'BIG5_Conscientiousness', 'value': '0.6839'}, {'trait': 'BIG5_Extraversion', 'value': '0.7670999999999999'}, {'trait': 'BIG5_Agreeableness', 'value': '0.39390000000000003'}, {'trait': 'BIG5_Neuroticism', 'value': '0.0704'}, {'trait': 'Female', 'value': '3.539757932819252E-5'}, {'trait': 'Age', 'value': '63.066422667711834'}]\n",
      "\n",
      "contributors []\n",
      "\n",
      "interpretations [{'trait': 'Jungian_Personality', 'value': 'ENTP'}, {'trait': 'Leadership', 'value': '0.7962401346775669'}]\n",
      "\n"
     ]
    }
   ],
   "source": [
    "for i in apply:\n",
    "    print(i, apply[i])\n",
    "    print()"
   ]
  },
  {
   "cell_type": "code",
   "execution_count": 41,
   "metadata": {},
   "outputs": [
    {
     "data": {
      "text/plain": [
       "{'trait': 'BIG5_Openness', 'value': '0.9834'}"
      ]
     },
     "execution_count": 41,
     "metadata": {},
     "output_type": "execute_result"
    }
   ],
   "source": [
    "apply['predictions'][0]"
   ]
  },
  {
   "cell_type": "code",
   "execution_count": 46,
   "metadata": {},
   "outputs": [
    {
     "name": "stdout",
     "output_type": "stream",
     "text": [
      "{'trait': 'BIG5_Openness', 'value': '0.9834'}\n",
      "{'trait': 'BIG5_Conscientiousness', 'value': '0.6839'}\n",
      "{'trait': 'BIG5_Extraversion', 'value': '0.7670999999999999'}\n",
      "{'trait': 'BIG5_Agreeableness', 'value': '0.39390000000000003'}\n",
      "{'trait': 'BIG5_Neuroticism', 'value': '0.0704'}\n",
      "{'trait': 'Female', 'value': '3.539757932819252E-5'}\n",
      "{'trait': 'Age', 'value': '63.066422667711834'}\n"
     ]
    }
   ],
   "source": [
    "for i in range(len(apply['predictions'])):\n",
    "    print(apply['predictions'][i])"
   ]
  },
  {
   "cell_type": "code",
   "execution_count": 50,
   "metadata": {},
   "outputs": [
    {
     "name": "stdout",
     "output_type": "stream",
     "text": [
      "BIG5_Openness 0.9834\n",
      "BIG5_Conscientiousness 0.6839\n",
      "BIG5_Extraversion 0.7670999999999999\n",
      "BIG5_Agreeableness 0.39390000000000003\n",
      "BIG5_Neuroticism 0.0704\n",
      "Female 3.539757932819252E-5\n",
      "Age 63.066422667711834\n"
     ]
    }
   ],
   "source": [
    "for i in apply['predictions']:\n",
    "    print(i['trait'], i['value'])"
   ]
  },
  {
   "cell_type": "code",
   "execution_count": null,
   "metadata": {},
   "outputs": [],
   "source": []
  }
 ],
 "metadata": {
  "kernelspec": {
   "display_name": "Python 3",
   "language": "python",
   "name": "python3"
  },
  "language_info": {
   "codemirror_mode": {
    "name": "ipython",
    "version": 3
   },
   "file_extension": ".py",
   "mimetype": "text/x-python",
   "name": "python",
   "nbconvert_exporter": "python",
   "pygments_lexer": "ipython3",
   "version": "3.9.2"
  }
 },
 "nbformat": 4,
 "nbformat_minor": 4
}
