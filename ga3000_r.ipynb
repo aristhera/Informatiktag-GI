{
 "cells": [
  {
   "cell_type": "code",
   "execution_count": 61,
   "metadata": {},
   "outputs": [
    {
     "name": "stdout",
     "output_type": "stream",
     "text": [
      "'data.frame':\t202 obs. of  7 variables:\n",
      " $ Bezirk                    : chr  \"Altona\" \"Altona\" \"Altona\" \"Altona\" ...\n",
      " $ Stadtteil                 : chr  \"Altona-Altstadt\" \"Altona-Altstadt\" \"Altona-Altstadt\" \"Altona-Nord\" ...\n",
      " $ Schulname                 : chr  \"Ganztagsschule an der Elbe\" \"Grundschule Thadenstraße\" \"Louise Schroeder Schule\" \"Grundschule Arnkielstraße\" ...\n",
      " $ Sozialindex               : int  2 4 3 1 3 5 5 2 6 6 ...\n",
      " $ Gymnasial..empfehlung     : int  5 16 29 9 18 44 17 27 87 81 ...\n",
      " $ ohne.Gymnasial..empfehlung: int  18 53 48 24 35 33 48 34 30 33 ...\n",
      " $ Insgesamt                 : int  23 69 77 33 53 77 65 61 117 114 ...\n"
     ]
    }
   ],
   "source": [
    "ga3000 <- read.csv('/home/gebhard/Dropbox/digi/dagstat/konferenz/ga3000.csv')\n",
    "str(ga3000)"
   ]
  },
  {
   "cell_type": "code",
   "execution_count": 62,
   "metadata": {},
   "outputs": [
    {
     "data": {
      "text/plain": [
       "    Bezirk           Stadtteil          Schulname          Sozialindex  \n",
       " Length:202         Length:202         Length:202         Min.   :1.00  \n",
       " Class :character   Class :character   Class :character   1st Qu.:2.00  \n",
       " Mode  :character   Mode  :character   Mode  :character   Median :4.00  \n",
       "                                                          Mean   :3.55  \n",
       "                                                          3rd Qu.:5.00  \n",
       "                                                          Max.   :6.00  \n",
       " Gymnasial..empfehlung ohne.Gymnasial..empfehlung   Insgesamt     \n",
       " Min.   : 0.00         Min.   :12.00              Min.   : 15.00  \n",
       " 1st Qu.:10.00         1st Qu.:29.00              1st Qu.: 46.00  \n",
       " Median :19.00         Median :36.00              Median : 60.00  \n",
       " Mean   :22.22         Mean   :39.37              Mean   : 61.59  \n",
       " 3rd Qu.:30.75         3rd Qu.:49.00              3rd Qu.: 75.75  \n",
       " Max.   :87.00         Max.   :92.00              Max.   :127.00  "
      ]
     },
     "metadata": {},
     "output_type": "display_data"
    }
   ],
   "source": [
    "summary(ga3000)"
   ]
  },
  {
   "cell_type": "code",
   "execution_count": 20,
   "metadata": {},
   "outputs": [],
   "source": [
    "kess <- ga3000$Sozialindex\n",
    "empf <- ga3000$Gymnasial..empfehlung\n",
    "gesamt <- ga3000$Insgesamt"
   ]
  },
  {
   "cell_type": "code",
   "execution_count": 21,
   "metadata": {},
   "outputs": [
    {
     "data": {
      "text/plain": [
       "kess\n",
       " 1  2  3  4  5  6 \n",
       "27 32 37 37 47 22 "
      ]
     },
     "metadata": {},
     "output_type": "display_data"
    }
   ],
   "source": [
    "table(kess)"
   ]
  },
  {
   "cell_type": "code",
   "execution_count": 22,
   "metadata": {},
   "outputs": [
    {
     "data": {
      "text/html": [
       "<style>\n",
       ".dl-inline {width: auto; margin:0; padding: 0}\n",
       ".dl-inline>dt, .dl-inline>dd {float: none; width: auto; display: inline-block}\n",
       ".dl-inline>dt::after {content: \":\\0020\"; padding-right: .5ex}\n",
       ".dl-inline>dt:not(:first-of-type) {padding-left: .5ex}\n",
       "</style><dl class=dl-inline><dt>1</dt><dd>270</dd><dt>2</dt><dd>436</dd><dt>3</dt><dd>686</dd><dt>4</dt><dd>836</dd><dt>5</dt><dd>1287</dd><dt>6</dt><dd>974</dd></dl>\n"
      ],
      "text/latex": [
       "\\begin{description*}\n",
       "\\item[1] 270\n",
       "\\item[2] 436\n",
       "\\item[3] 686\n",
       "\\item[4] 836\n",
       "\\item[5] 1287\n",
       "\\item[6] 974\n",
       "\\end{description*}\n"
      ],
      "text/markdown": [
       "1\n",
       ":   2702\n",
       ":   4363\n",
       ":   6864\n",
       ":   8365\n",
       ":   12876\n",
       ":   974\n",
       "\n"
      ],
      "text/plain": [
       "   1    2    3    4    5    6 \n",
       " 270  436  686  836 1287  974 "
      ]
     },
     "metadata": {},
     "output_type": "display_data"
    }
   ],
   "source": [
    "tapply(empf, kess, sum)"
   ]
  },
  {
   "cell_type": "code",
   "execution_count": 23,
   "metadata": {},
   "outputs": [],
   "source": [
    "library(dplyr)"
   ]
  },
  {
   "cell_type": "code",
   "execution_count": 31,
   "metadata": {},
   "outputs": [
    {
     "data": {
      "text/html": [
       "<table class=\"dataframe\">\n",
       "<caption>A tibble: 6 × 2</caption>\n",
       "<thead>\n",
       "\t<tr><th scope=col>kess</th><th scope=col>sum</th></tr>\n",
       "\t<tr><th scope=col>&lt;int&gt;</th><th scope=col>&lt;int&gt;</th></tr>\n",
       "</thead>\n",
       "<tbody>\n",
       "\t<tr><td>1</td><td> 270</td></tr>\n",
       "\t<tr><td>2</td><td> 436</td></tr>\n",
       "\t<tr><td>3</td><td> 686</td></tr>\n",
       "\t<tr><td>4</td><td> 836</td></tr>\n",
       "\t<tr><td>5</td><td>1287</td></tr>\n",
       "\t<tr><td>6</td><td> 974</td></tr>\n",
       "</tbody>\n",
       "</table>\n"
      ],
      "text/latex": [
       "A tibble: 6 × 2\n",
       "\\begin{tabular}{ll}\n",
       " kess & sum\\\\\n",
       " <int> & <int>\\\\\n",
       "\\hline\n",
       "\t 1 &  270\\\\\n",
       "\t 2 &  436\\\\\n",
       "\t 3 &  686\\\\\n",
       "\t 4 &  836\\\\\n",
       "\t 5 & 1287\\\\\n",
       "\t 6 &  974\\\\\n",
       "\\end{tabular}\n"
      ],
      "text/markdown": [
       "\n",
       "A tibble: 6 × 2\n",
       "\n",
       "| kess &lt;int&gt; | sum &lt;int&gt; |\n",
       "|---|---|\n",
       "| 1 |  270 |\n",
       "| 2 |  436 |\n",
       "| 3 |  686 |\n",
       "| 4 |  836 |\n",
       "| 5 | 1287 |\n",
       "| 6 |  974 |\n",
       "\n"
      ],
      "text/plain": [
       "  kess sum \n",
       "1 1     270\n",
       "2 2     436\n",
       "3 3     686\n",
       "4 4     836\n",
       "5 5    1287\n",
       "6 6     974"
      ]
     },
     "metadata": {},
     "output_type": "display_data"
    }
   ],
   "source": [
    "df <- data_frame(kess = kess, empf = empf)\n",
    "table1 <- df %>%\n",
    "    group_by(kess) %>% \n",
    "    summarise(sum = sum(empf))\n",
    "table1"
   ]
  },
  {
   "cell_type": "code",
   "execution_count": 49,
   "metadata": {},
   "outputs": [
    {
     "name": "stdout",
     "output_type": "stream",
     "text": [
      "'data.frame':\t6 obs. of  3 variables:\n",
      " $ Sozialindex                      : int  1 2 3 4 5 6\n",
      " $ Anzahl.Schueler.in.Jahrgangsstufe: int  0 320 140 1398 3085 2188\n",
      " $ davon.Wechsler.ans.Gymnasium     : int  0 318 140 1393 3078 2184\n"
     ]
    },
    {
     "data": {
      "text/html": [
       "<style>\n",
       ".list-inline {list-style: none; margin:0; padding: 0}\n",
       ".list-inline>li {display: inline-block}\n",
       ".list-inline>li:not(:last-child)::after {content: \"\\00b7\"; padding: 0 .5ex}\n",
       "</style>\n",
       "<ol class=list-inline><li>270</li><li>436</li><li>686</li><li>836</li><li>1287</li><li>974</li></ol>\n"
      ],
      "text/latex": [
       "\\begin{enumerate*}\n",
       "\\item 270\n",
       "\\item 436\n",
       "\\item 686\n",
       "\\item 836\n",
       "\\item 1287\n",
       "\\item 974\n",
       "\\end{enumerate*}\n"
      ],
      "text/markdown": [
       "1. 270\n",
       "2. 436\n",
       "3. 686\n",
       "4. 836\n",
       "5. 1287\n",
       "6. 974\n",
       "\n",
       "\n"
      ],
      "text/plain": [
       "[1]  270  436  686  836 1287  974"
      ]
     },
     "metadata": {},
     "output_type": "display_data"
    }
   ],
   "source": [
    "wechsel <- read.csv('/home/gebhard/Dropbox/digi/dagstat/konferenz/wechsel.csv')\n",
    "str(wechsel)\n",
    "table1$sum"
   ]
  },
  {
   "cell_type": "code",
   "execution_count": 58,
   "metadata": {},
   "outputs": [],
   "source": [
    "kess_wechsel <- wechsel$Sozialindex\n",
    "wechsler <- wechsel$davon.Wechsler.ans.Gymnasium"
   ]
  },
  {
   "cell_type": "code",
   "execution_count": 63,
   "metadata": {},
   "outputs": [],
   "source": [
    "dif <- table1$sum - wechsler"
   ]
  },
  {
   "cell_type": "code",
   "execution_count": 64,
   "metadata": {},
   "outputs": [
    {
     "data": {
      "text/html": [
       "<table class=\"dataframe\">\n",
       "<caption>A tibble: 6 × 4</caption>\n",
       "<thead>\n",
       "\t<tr><th scope=col>table1$kess</th><th scope=col>table1$sum</th><th scope=col>wechsler</th><th scope=col>dif</th></tr>\n",
       "\t<tr><th scope=col>&lt;int&gt;</th><th scope=col>&lt;int&gt;</th><th scope=col>&lt;int&gt;</th><th scope=col>&lt;int&gt;</th></tr>\n",
       "</thead>\n",
       "<tbody>\n",
       "\t<tr><td>1</td><td> 270</td><td>   0</td><td>  270</td></tr>\n",
       "\t<tr><td>2</td><td> 436</td><td> 318</td><td>  118</td></tr>\n",
       "\t<tr><td>3</td><td> 686</td><td> 140</td><td>  546</td></tr>\n",
       "\t<tr><td>4</td><td> 836</td><td>1393</td><td> -557</td></tr>\n",
       "\t<tr><td>5</td><td>1287</td><td>3078</td><td>-1791</td></tr>\n",
       "\t<tr><td>6</td><td> 974</td><td>2184</td><td>-1210</td></tr>\n",
       "</tbody>\n",
       "</table>\n"
      ],
      "text/latex": [
       "A tibble: 6 × 4\n",
       "\\begin{tabular}{llll}\n",
       " table1\\$kess & table1\\$sum & wechsler & dif\\\\\n",
       " <int> & <int> & <int> & <int>\\\\\n",
       "\\hline\n",
       "\t 1 &  270 &    0 &   270\\\\\n",
       "\t 2 &  436 &  318 &   118\\\\\n",
       "\t 3 &  686 &  140 &   546\\\\\n",
       "\t 4 &  836 & 1393 &  -557\\\\\n",
       "\t 5 & 1287 & 3078 & -1791\\\\\n",
       "\t 6 &  974 & 2184 & -1210\\\\\n",
       "\\end{tabular}\n"
      ],
      "text/markdown": [
       "\n",
       "A tibble: 6 × 4\n",
       "\n",
       "| table1$kess &lt;int&gt; | table1$sum &lt;int&gt; | wechsler &lt;int&gt; | dif &lt;int&gt; |\n",
       "|---|---|---|---|\n",
       "| 1 |  270 |    0 |   270 |\n",
       "| 2 |  436 |  318 |   118 |\n",
       "| 3 |  686 |  140 |   546 |\n",
       "| 4 |  836 | 1393 |  -557 |\n",
       "| 5 | 1287 | 3078 | -1791 |\n",
       "| 6 |  974 | 2184 | -1210 |\n",
       "\n"
      ],
      "text/plain": [
       "  table1$kess table1$sum wechsler dif  \n",
       "1 1            270          0       270\n",
       "2 2            436        318       118\n",
       "3 3            686        140       546\n",
       "4 4            836       1393      -557\n",
       "5 5           1287       3078     -1791\n",
       "6 6            974       2184     -1210"
      ]
     },
     "metadata": {},
     "output_type": "display_data"
    }
   ],
   "source": [
    "df <- data_frame(table1$kess, table1$sum, wechsler, dif)\n",
    "df"
   ]
  },
  {
   "cell_type": "code",
   "execution_count": null,
   "metadata": {},
   "outputs": [],
   "source": []
  }
 ],
 "metadata": {
  "kernelspec": {
   "display_name": "R",
   "language": "R",
   "name": "ir"
  },
  "language_info": {
   "codemirror_mode": "r",
   "file_extension": ".r",
   "mimetype": "text/x-r-source",
   "name": "R",
   "pygments_lexer": "r",
   "version": "4.0.4"
  }
 },
 "nbformat": 4,
 "nbformat_minor": 2
}
